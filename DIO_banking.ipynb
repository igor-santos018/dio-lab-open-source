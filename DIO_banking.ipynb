{
  "cells": [
    {
      "cell_type": "markdown",
      "metadata": {
        "id": "view-in-github",
        "colab_type": "text"
      },
      "source": [
        "<a href=\"https://colab.research.google.com/github/igor-santos018/dio-lab-open-source/blob/main/DIO_banking.ipynb\" target=\"_parent\"><img src=\"https://colab.research.google.com/assets/colab-badge.svg\" alt=\"Open In Colab\"/></a>"
      ]
    },
    {
      "cell_type": "code",
      "execution_count": 18,
      "metadata": {
        "id": "ySk2NK1tzFp2"
      },
      "outputs": [],
      "source": [
        "saldo = 0\n",
        "limite = 500\n",
        "extrato = ''\n",
        "num_saques = 0\n",
        "LIMITE_SAQUE = 3\n",
        "menu = '[A] - Depositar\\n[B] - Sacar\\n[C] - Extrato\\n[D] - Sair\\n'"
      ]
    },
    {
      "cell_type": "code",
      "execution_count": 19,
      "metadata": {
        "colab": {
          "base_uri": "https://localhost:8080/"
        },
        "id": "-CybP5kV08j5",
        "outputId": "d5becd90-9767-430b-f085-29344717b093"
      },
      "outputs": [
        {
          "name": "stdout",
          "output_type": "stream",
          "text": [
            "[A] - Depositar\n",
            "[B] - Sacar\n",
            "[C] - Extrato\n",
            "[D] - Sair\n",
            "c\n",
            "Você não possui movimentações\n",
            "[A] - Depositar\n",
            "[B] - Sacar\n",
            "[C] - Extrato\n",
            "[D] - Sair\n",
            "a\n",
            "Digite o valor a ser depositado: 500\n",
            "[A] - Depositar\n",
            "[B] - Sacar\n",
            "[C] - Extrato\n",
            "[D] - Sair\n",
            "c\n",
            "Saldo: R$ 500.00\n",
            "Valor do último Depósito: 500.00\n",
            "Limite de saques diário:3\n",
            "[A] - Depositar\n",
            "[B] - Sacar\n",
            "[C] - Extrato\n",
            "[D] - Sair\n",
            "d\n"
          ]
        }
      ],
      "source": [
        "while True:\n",
        "\n",
        "  user_input = input(menu).upper()\n",
        "\n",
        "  if user_input == 'A':\n",
        "    try:\n",
        "      deposito = float(input('Digite o valor a ser depositado: '))\n",
        "      if deposito > 0:\n",
        "          saldo += deposito\n",
        "          extrato += f'Depósito: R$ {deposito:.2f}\\n'\n",
        "      elif deposito < 0:\n",
        "        print('O depósito não pode ser negativo')\n",
        "      else:\n",
        "        print('O valor do depósito deve ser maior que zero')\n",
        "    except ValueError:\n",
        "      print(\"Digite um valor numérico válido\")\n",
        "  if user_input == 'B':\n",
        "    saque = float(input('Digite o valor a ser sacado: '))\n",
        "    if saque <=\tlimite and LIMITE_SAQUE <= 3:\n",
        "      saldo -= saque\n",
        "      LIMITE_SAQUE -= 1\n",
        "    if LIMITE_SAQUE == 0:\n",
        "      print(\"Você excedeu o seu limite de saque diário\")\n",
        "    if saque < 0:\n",
        "      print(\"O valor a ser sacado dever ser positvo\")\n",
        "  if user_input == 'C':\n",
        "    if not extrato:\n",
        "      print('Você não possui movimentações')\n",
        "    else:\n",
        "      print(f'Saldo: R$ {saldo:.2f}\\nValor do último Depósito: {deposito:.2f}\\nLimite de saques diário:{LIMITE_SAQUE}')\n",
        "  if user_input == 'D':\n",
        "    break"
      ]
    }
  ],
  "metadata": {
    "colab": {
      "provenance": [],
      "authorship_tag": "ABX9TyPbhTE1xDO6dZSztFxxOPO4",
      "include_colab_link": true
    },
    "kernelspec": {
      "display_name": "Python 3",
      "name": "python3"
    },
    "language_info": {
      "name": "python"
    }
  },
  "nbformat": 4,
  "nbformat_minor": 0
}